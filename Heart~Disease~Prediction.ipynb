{
  "cells": [
    {
      "cell_type": "markdown",
      "metadata": {
        "id": "view-in-github",
        "colab_type": "text"
      },
      "source": [
        "<a href=\"https://colab.research.google.com/github/parvichakravarti/CAREPOINT-Hospital-Dashboard-PowerBI/blob/main/Heart~Disease~Prediction.ipynb\" target=\"_parent\"><img src=\"https://colab.research.google.com/assets/colab-badge.svg\" alt=\"Open In Colab\"/></a>"
      ]
    },
    {
      "cell_type": "markdown",
      "id": "8b4ae523-b710-460e-8720-f8b6fd36059b",
      "metadata": {
        "id": "8b4ae523-b710-460e-8720-f8b6fd36059b"
      },
      "source": [
        "# Heart Disease Prediction Model\n",
        "An AI-model that predicts heart disease risk from user health data....\n",
        "\n",
        "- [GitHub](https://github.com/parvichakravarti)\n",
        "\n",
        "\n",
        "## 📊 Dataset Summary\n",
        "\n",
        "- **Source**: [Centers for Disease Control and Prevention (CDC)](https://www.cdc.gov/)\n",
        "- **Dataset**: [Annual 2020 Behavioral Risk Factor Surveillance System (BRFSS)](https://www.kaggle.com/datasets/kamilpytlak/personal-key-indicators-of-heart-disease)\n",
        "- **Samples**: 400,000+ adult survey respondents in the United States\n",
        "- **Features include**:\n",
        "  - Demographics (age, gender, race)\n",
        "  - Lifestyle choices (smoking, alcohol use, physical activity)\n",
        "  - Physical and mental health status\n",
        "  - Medical conditions (diabetes, high blood pressure, etc.)"
      ]
    },
    {
      "cell_type": "markdown",
      "id": "d1bad6b7",
      "metadata": {
        "id": "d1bad6b7"
      },
      "source": [
        "## Sample Output\n",
        "\n",
        "**Person Data:**  \n",
        "![Person Data](https://github.com/marianoluiz/heart-disease-predictor/blob/main/img/predictX.png?raw=1)\n",
        "\n",
        "**Diagnosis:**  \n",
        "![Diagnosis](https://github.com/marianoluiz/heart-disease-predictor/blob/main/img/result.png?raw=1)"
      ]
    },
    {
      "cell_type": "markdown",
      "id": "e41364f9-fe0a-45ac-842c-7c7395966871",
      "metadata": {
        "id": "e41364f9-fe0a-45ac-842c-7c7395966871"
      },
      "source": [
        "### Install dependencies"
      ]
    },
    {
      "cell_type": "code",
      "execution_count": null,
      "id": "a919715b-9318-44fc-854e-0b8259300eb6",
      "metadata": {
        "collapsed": true,
        "jupyter": {
          "outputs_hidden": true
        },
        "id": "a919715b-9318-44fc-854e-0b8259300eb6",
        "outputId": "986336f2-fbf5-450e-b483-f9d38cd14a48"
      },
      "outputs": [
        {
          "name": "stdout",
          "output_type": "stream",
          "text": [
            "Requirement already satisfied: pandas==2.3.0 in ./venv/lib/python3.12/site-packages (2.3.0)\n",
            "Requirement already satisfied: scikit-learn==1.7.0 in ./venv/lib/python3.12/site-packages (1.7.0)\n",
            "Requirement already satisfied: tensorflow==2.19.0 in ./venv/lib/python3.12/site-packages (from tensorflow[and-cuda]==2.19.0) (2.19.0)\n",
            "Requirement already satisfied: numpy>=1.26.0 in ./venv/lib/python3.12/site-packages (from pandas==2.3.0) (2.1.3)\n",
            "Requirement already satisfied: python-dateutil>=2.8.2 in ./venv/lib/python3.12/site-packages (from pandas==2.3.0) (2.9.0.post0)\n",
            "Requirement already satisfied: pytz>=2020.1 in ./venv/lib/python3.12/site-packages (from pandas==2.3.0) (2025.2)\n",
            "Requirement already satisfied: tzdata>=2022.7 in ./venv/lib/python3.12/site-packages (from pandas==2.3.0) (2025.2)\n",
            "Requirement already satisfied: scipy>=1.8.0 in ./venv/lib/python3.12/site-packages (from scikit-learn==1.7.0) (1.15.3)\n",
            "Requirement already satisfied: joblib>=1.2.0 in ./venv/lib/python3.12/site-packages (from scikit-learn==1.7.0) (1.5.1)\n",
            "Requirement already satisfied: threadpoolctl>=3.1.0 in ./venv/lib/python3.12/site-packages (from scikit-learn==1.7.0) (3.6.0)\n",
            "Requirement already satisfied: absl-py>=1.0.0 in ./venv/lib/python3.12/site-packages (from tensorflow==2.19.0->tensorflow[and-cuda]==2.19.0) (2.3.0)\n",
            "Requirement already satisfied: astunparse>=1.6.0 in ./venv/lib/python3.12/site-packages (from tensorflow==2.19.0->tensorflow[and-cuda]==2.19.0) (1.6.3)\n",
            "Requirement already satisfied: flatbuffers>=24.3.25 in ./venv/lib/python3.12/site-packages (from tensorflow==2.19.0->tensorflow[and-cuda]==2.19.0) (25.2.10)\n",
            "Requirement already satisfied: gast!=0.5.0,!=0.5.1,!=0.5.2,>=0.2.1 in ./venv/lib/python3.12/site-packages (from tensorflow==2.19.0->tensorflow[and-cuda]==2.19.0) (0.6.0)\n",
            "Requirement already satisfied: google-pasta>=0.1.1 in ./venv/lib/python3.12/site-packages (from tensorflow==2.19.0->tensorflow[and-cuda]==2.19.0) (0.2.0)\n",
            "Requirement already satisfied: libclang>=13.0.0 in ./venv/lib/python3.12/site-packages (from tensorflow==2.19.0->tensorflow[and-cuda]==2.19.0) (18.1.1)\n",
            "Requirement already satisfied: opt-einsum>=2.3.2 in ./venv/lib/python3.12/site-packages (from tensorflow==2.19.0->tensorflow[and-cuda]==2.19.0) (3.4.0)\n",
            "Requirement already satisfied: packaging in ./venv/lib/python3.12/site-packages (from tensorflow==2.19.0->tensorflow[and-cuda]==2.19.0) (25.0)\n",
            "Requirement already satisfied: protobuf!=4.21.0,!=4.21.1,!=4.21.2,!=4.21.3,!=4.21.4,!=4.21.5,<6.0.0dev,>=3.20.3 in ./venv/lib/python3.12/site-packages (from tensorflow==2.19.0->tensorflow[and-cuda]==2.19.0) (5.29.5)\n",
            "Requirement already satisfied: requests<3,>=2.21.0 in ./venv/lib/python3.12/site-packages (from tensorflow==2.19.0->tensorflow[and-cuda]==2.19.0) (2.32.3)\n",
            "Requirement already satisfied: setuptools in ./venv/lib/python3.12/site-packages (from tensorflow==2.19.0->tensorflow[and-cuda]==2.19.0) (80.9.0)\n",
            "Requirement already satisfied: six>=1.12.0 in ./venv/lib/python3.12/site-packages (from tensorflow==2.19.0->tensorflow[and-cuda]==2.19.0) (1.17.0)\n",
            "Requirement already satisfied: termcolor>=1.1.0 in ./venv/lib/python3.12/site-packages (from tensorflow==2.19.0->tensorflow[and-cuda]==2.19.0) (3.1.0)\n",
            "Requirement already satisfied: typing-extensions>=3.6.6 in ./venv/lib/python3.12/site-packages (from tensorflow==2.19.0->tensorflow[and-cuda]==2.19.0) (4.14.0)\n",
            "Requirement already satisfied: wrapt>=1.11.0 in ./venv/lib/python3.12/site-packages (from tensorflow==2.19.0->tensorflow[and-cuda]==2.19.0) (1.17.2)\n",
            "Requirement already satisfied: grpcio<2.0,>=1.24.3 in ./venv/lib/python3.12/site-packages (from tensorflow==2.19.0->tensorflow[and-cuda]==2.19.0) (1.72.1)\n",
            "Requirement already satisfied: tensorboard~=2.19.0 in ./venv/lib/python3.12/site-packages (from tensorflow==2.19.0->tensorflow[and-cuda]==2.19.0) (2.19.0)\n",
            "Requirement already satisfied: keras>=3.5.0 in ./venv/lib/python3.12/site-packages (from tensorflow==2.19.0->tensorflow[and-cuda]==2.19.0) (3.10.0)\n",
            "Requirement already satisfied: h5py>=3.11.0 in ./venv/lib/python3.12/site-packages (from tensorflow==2.19.0->tensorflow[and-cuda]==2.19.0) (3.13.0)\n",
            "Requirement already satisfied: ml-dtypes<1.0.0,>=0.5.1 in ./venv/lib/python3.12/site-packages (from tensorflow==2.19.0->tensorflow[and-cuda]==2.19.0) (0.5.1)\n",
            "Requirement already satisfied: nvidia-cublas-cu12==12.5.3.2 in ./venv/lib/python3.12/site-packages (from tensorflow[and-cuda]==2.19.0) (12.5.3.2)\n",
            "Requirement already satisfied: nvidia-cuda-cupti-cu12==12.5.82 in ./venv/lib/python3.12/site-packages (from tensorflow[and-cuda]==2.19.0) (12.5.82)\n",
            "Requirement already satisfied: nvidia-cuda-nvcc-cu12==12.5.82 in ./venv/lib/python3.12/site-packages (from tensorflow[and-cuda]==2.19.0) (12.5.82)\n",
            "Requirement already satisfied: nvidia-cuda-nvrtc-cu12==12.5.82 in ./venv/lib/python3.12/site-packages (from tensorflow[and-cuda]==2.19.0) (12.5.82)\n",
            "Requirement already satisfied: nvidia-cuda-runtime-cu12==12.5.82 in ./venv/lib/python3.12/site-packages (from tensorflow[and-cuda]==2.19.0) (12.5.82)\n",
            "Requirement already satisfied: nvidia-cudnn-cu12==9.3.0.75 in ./venv/lib/python3.12/site-packages (from tensorflow[and-cuda]==2.19.0) (9.3.0.75)\n",
            "Requirement already satisfied: nvidia-cufft-cu12==11.2.3.61 in ./venv/lib/python3.12/site-packages (from tensorflow[and-cuda]==2.19.0) (11.2.3.61)\n",
            "Requirement already satisfied: nvidia-curand-cu12==10.3.6.82 in ./venv/lib/python3.12/site-packages (from tensorflow[and-cuda]==2.19.0) (10.3.6.82)\n",
            "Requirement already satisfied: nvidia-cusolver-cu12==11.6.3.83 in ./venv/lib/python3.12/site-packages (from tensorflow[and-cuda]==2.19.0) (11.6.3.83)\n",
            "Requirement already satisfied: nvidia-cusparse-cu12==12.5.1.3 in ./venv/lib/python3.12/site-packages (from tensorflow[and-cuda]==2.19.0) (12.5.1.3)\n",
            "Requirement already satisfied: nvidia-nccl-cu12==2.23.4 in ./venv/lib/python3.12/site-packages (from tensorflow[and-cuda]==2.19.0) (2.23.4)\n",
            "Requirement already satisfied: nvidia-nvjitlink-cu12==12.5.82 in ./venv/lib/python3.12/site-packages (from tensorflow[and-cuda]==2.19.0) (12.5.82)\n",
            "Requirement already satisfied: wheel<1.0,>=0.23.0 in ./venv/lib/python3.12/site-packages (from astunparse>=1.6.0->tensorflow==2.19.0->tensorflow[and-cuda]==2.19.0) (0.45.1)\n",
            "Requirement already satisfied: rich in ./venv/lib/python3.12/site-packages (from keras>=3.5.0->tensorflow==2.19.0->tensorflow[and-cuda]==2.19.0) (14.0.0)\n",
            "Requirement already satisfied: namex in ./venv/lib/python3.12/site-packages (from keras>=3.5.0->tensorflow==2.19.0->tensorflow[and-cuda]==2.19.0) (0.1.0)\n",
            "Requirement already satisfied: optree in ./venv/lib/python3.12/site-packages (from keras>=3.5.0->tensorflow==2.19.0->tensorflow[and-cuda]==2.19.0) (0.16.0)\n",
            "Requirement already satisfied: charset-normalizer<4,>=2 in ./venv/lib/python3.12/site-packages (from requests<3,>=2.21.0->tensorflow==2.19.0->tensorflow[and-cuda]==2.19.0) (3.4.2)\n",
            "Requirement already satisfied: idna<4,>=2.5 in ./venv/lib/python3.12/site-packages (from requests<3,>=2.21.0->tensorflow==2.19.0->tensorflow[and-cuda]==2.19.0) (3.10)\n",
            "Requirement already satisfied: urllib3<3,>=1.21.1 in ./venv/lib/python3.12/site-packages (from requests<3,>=2.21.0->tensorflow==2.19.0->tensorflow[and-cuda]==2.19.0) (2.4.0)\n",
            "Requirement already satisfied: certifi>=2017.4.17 in ./venv/lib/python3.12/site-packages (from requests<3,>=2.21.0->tensorflow==2.19.0->tensorflow[and-cuda]==2.19.0) (2025.4.26)\n",
            "Requirement already satisfied: markdown>=2.6.8 in ./venv/lib/python3.12/site-packages (from tensorboard~=2.19.0->tensorflow==2.19.0->tensorflow[and-cuda]==2.19.0) (3.8)\n",
            "Requirement already satisfied: tensorboard-data-server<0.8.0,>=0.7.0 in ./venv/lib/python3.12/site-packages (from tensorboard~=2.19.0->tensorflow==2.19.0->tensorflow[and-cuda]==2.19.0) (0.7.2)\n",
            "Requirement already satisfied: werkzeug>=1.0.1 in ./venv/lib/python3.12/site-packages (from tensorboard~=2.19.0->tensorflow==2.19.0->tensorflow[and-cuda]==2.19.0) (3.1.3)\n",
            "Requirement already satisfied: MarkupSafe>=2.1.1 in ./venv/lib/python3.12/site-packages (from werkzeug>=1.0.1->tensorboard~=2.19.0->tensorflow==2.19.0->tensorflow[and-cuda]==2.19.0) (3.0.2)\n",
            "Requirement already satisfied: markdown-it-py>=2.2.0 in ./venv/lib/python3.12/site-packages (from rich->keras>=3.5.0->tensorflow==2.19.0->tensorflow[and-cuda]==2.19.0) (3.0.0)\n",
            "Requirement already satisfied: pygments<3.0.0,>=2.13.0 in ./venv/lib/python3.12/site-packages (from rich->keras>=3.5.0->tensorflow==2.19.0->tensorflow[and-cuda]==2.19.0) (2.19.1)\n",
            "Requirement already satisfied: mdurl~=0.1 in ./venv/lib/python3.12/site-packages (from markdown-it-py>=2.2.0->rich->keras>=3.5.0->tensorflow==2.19.0->tensorflow[and-cuda]==2.19.0) (0.1.2)\n"
          ]
        }
      ],
      "source": [
        "# Install dependencies\n",
        "!pip install pandas==2.3.0 scikit-learn==1.7.0 tensorflow[and-cuda]==2.19.0 kaggle==1.7.4.5"
      ]
    },
    {
      "cell_type": "code",
      "execution_count": null,
      "id": "56d04401-1429-41eb-a140-b38c124a8254",
      "metadata": {
        "collapsed": true,
        "jupyter": {
          "outputs_hidden": true
        },
        "id": "56d04401-1429-41eb-a140-b38c124a8254",
        "outputId": "26449432-9bf4-46f1-e2f9-6f56ee4a42ed"
      },
      "outputs": [
        {
          "name": "stdout",
          "output_type": "stream",
          "text": [
            "Dataset URL: https://www.kaggle.com/datasets/kamilpytlak/personal-key-indicators-of-heart-disease\n",
            "License(s): CC0-1.0\n",
            "Downloading personal-key-indicators-of-heart-disease.zip to /mnt/drive_d/projs/Heart Disease Predictor\n",
            "  0%|                                               | 0.00/21.4M [00:00<?, ?B/s]\n",
            "100%|███████████████████████████████████████| 21.4M/21.4M [00:00<00:00, 334MB/s]\n"
          ]
        }
      ],
      "source": [
        "# Download the dataset using the kaggle API or manually in the link from the dataset summary.\n",
        "!kaggle datasets download -d kamilpytlak/personal-key-indicators-of-heart-disease\n",
        "\n",
        "# Read Documentation: https://www.kaggle.com/docs/api#getting-started-installation-&-authentication"
      ]
    },
    {
      "cell_type": "code",
      "execution_count": null,
      "id": "48382343-9c37-437d-b15c-dea720ce495e",
      "metadata": {
        "id": "48382343-9c37-437d-b15c-dea720ce495e",
        "outputId": "d7341c01-3014-4c70-a028-bca5be9dca9b"
      },
      "outputs": [
        {
          "name": "stderr",
          "output_type": "stream",
          "text": [
            "2025-06-09 02:10:43.890470: I tensorflow/core/util/port.cc:153] oneDNN custom operations are on. You may see slightly different numerical results due to floating-point round-off errors from different computation orders. To turn them off, set the environment variable `TF_ENABLE_ONEDNN_OPTS=0`.\n",
            "2025-06-09 02:10:44.016290: E external/local_xla/xla/stream_executor/cuda/cuda_fft.cc:467] Unable to register cuFFT factory: Attempting to register factory for plugin cuFFT when one has already been registered\n",
            "WARNING: All log messages before absl::InitializeLog() is called are written to STDERR\n",
            "E0000 00:00:1749406244.076079   45218 cuda_dnn.cc:8579] Unable to register cuDNN factory: Attempting to register factory for plugin cuDNN when one has already been registered\n",
            "E0000 00:00:1749406244.079441   45218 cuda_blas.cc:1407] Unable to register cuBLAS factory: Attempting to register factory for plugin cuBLAS when one has already been registered\n",
            "W0000 00:00:1749406244.091117   45218 computation_placer.cc:177] computation placer already registered. Please check linkage and avoid linking the same target more than once.\n",
            "W0000 00:00:1749406244.091143   45218 computation_placer.cc:177] computation placer already registered. Please check linkage and avoid linking the same target more than once.\n",
            "W0000 00:00:1749406244.091144   45218 computation_placer.cc:177] computation placer already registered. Please check linkage and avoid linking the same target more than once.\n",
            "W0000 00:00:1749406244.091145   45218 computation_placer.cc:177] computation placer already registered. Please check linkage and avoid linking the same target more than once.\n",
            "2025-06-09 02:10:44.097719: I tensorflow/core/platform/cpu_feature_guard.cc:210] This TensorFlow binary is optimized to use available CPU instructions in performance-critical operations.\n",
            "To enable the following instructions: AVX2 AVX_VNNI FMA, in other operations, rebuild TensorFlow with the appropriate compiler flags.\n"
          ]
        }
      ],
      "source": [
        "# Import dependencies\n",
        "import tensorflow as tf\n",
        "import pandas as pd\n",
        "from sklearn.model_selection import train_test_split"
      ]
    },
    {
      "cell_type": "markdown",
      "id": "bd13bab6-cf4c-4c20-8a13-9eea4ff66c8c",
      "metadata": {
        "id": "bd13bab6-cf4c-4c20-8a13-9eea4ff66c8c"
      },
      "source": [
        "### Process the dataset"
      ]
    },
    {
      "cell_type": "code",
      "execution_count": null,
      "id": "2fdb0c03-cd23-4394-b2a8-48fa54157182",
      "metadata": {
        "collapsed": true,
        "jupyter": {
          "outputs_hidden": true
        },
        "scrolled": true,
        "id": "2fdb0c03-cd23-4394-b2a8-48fa54157182",
        "outputId": "779ef3c1-84c1-4566-9910-a873e7e92a24"
      },
      "outputs": [
        {
          "name": "stderr",
          "output_type": "stream",
          "text": [
            "/tmp/ipykernel_45218/589753388.py:51: FutureWarning: A value is trying to be set on a copy of a DataFrame or Series through chained assignment using an inplace method.\n",
            "The behavior will change in pandas 3.0. This inplace method will never work because the intermediate object on which we are setting values always behaves as a copy.\n",
            "\n",
            "For example, when doing 'df[col].method(value, inplace=True)', try using 'df.method({col: value}, inplace=True)' or df[col] = df[col].method(value) instead, to perform the operation inplace on the original object.\n",
            "\n",
            "\n",
            "  dataset['age_category'].replace(age_map, inplace=True)\n",
            "/tmp/ipykernel_45218/589753388.py:51: FutureWarning: Downcasting behavior in `replace` is deprecated and will be removed in a future version. To retain the old behavior, explicitly call `result.infer_objects(copy=False)`. To opt-in to the future behavior, set `pd.set_option('future.no_silent_downcasting', True)`\n",
            "  dataset['age_category'].replace(age_map, inplace=True)\n",
            "/tmp/ipykernel_45218/589753388.py:52: FutureWarning: A value is trying to be set on a copy of a DataFrame or Series through chained assignment using an inplace method.\n",
            "The behavior will change in pandas 3.0. This inplace method will never work because the intermediate object on which we are setting values always behaves as a copy.\n",
            "\n",
            "For example, when doing 'df[col].method(value, inplace=True)', try using 'df.method({col: value}, inplace=True)' or df[col] = df[col].method(value) instead, to perform the operation inplace on the original object.\n",
            "\n",
            "\n",
            "  dataset['gen_health'].replace(gen_health_map, inplace=True)\n",
            "/tmp/ipykernel_45218/589753388.py:52: FutureWarning: Downcasting behavior in `replace` is deprecated and will be removed in a future version. To retain the old behavior, explicitly call `result.infer_objects(copy=False)`. To opt-in to the future behavior, set `pd.set_option('future.no_silent_downcasting', True)`\n",
            "  dataset['gen_health'].replace(gen_health_map, inplace=True)\n",
            "/tmp/ipykernel_45218/589753388.py:53: FutureWarning: A value is trying to be set on a copy of a DataFrame or Series through chained assignment using an inplace method.\n",
            "The behavior will change in pandas 3.0. This inplace method will never work because the intermediate object on which we are setting values always behaves as a copy.\n",
            "\n",
            "For example, when doing 'df[col].method(value, inplace=True)', try using 'df.method({col: value}, inplace=True)' or df[col] = df[col].method(value) instead, to perform the operation inplace on the original object.\n",
            "\n",
            "\n",
            "  dataset['heart_disease'].replace({'Yes': 1, 'No': 0}, inplace=True)\n",
            "/tmp/ipykernel_45218/589753388.py:53: FutureWarning: Downcasting behavior in `replace` is deprecated and will be removed in a future version. To retain the old behavior, explicitly call `result.infer_objects(copy=False)`. To opt-in to the future behavior, set `pd.set_option('future.no_silent_downcasting', True)`\n",
            "  dataset['heart_disease'].replace({'Yes': 1, 'No': 0}, inplace=True)\n"
          ]
        }
      ],
      "source": [
        "#  Declare the dataset\n",
        "\n",
        "# Change .csv name and directory as needed\n",
        "dataset = pd.read_csv('./heartdisease2020_dataset_by_kamil/heart_2020_cleaned.csv')\n",
        "dataset.rename(columns={\n",
        "    'HeartDisease': 'heart_disease',\n",
        "    'BMI': 'bmi',\n",
        "    'Smoking': 'smoking',\n",
        "    'AlcoholDrinking': 'alcohol_drinking',\n",
        "    'Stroke': 'stroke',\n",
        "    'PhysicalHealth': 'physical_health',\n",
        "    'MentalHealth': 'mental_health',\n",
        "    'DiffWalking': 'diff_walking',\n",
        "    'Sex': 'sex',\n",
        "    'AgeCategory': 'age_category',\n",
        "    'Race': 'race',\n",
        "    'Diabetic': 'diabetic',\n",
        "    'PhysicalActivity': 'physical_activity',\n",
        "    'GenHealth': 'gen_health',\n",
        "    'SleepTime': 'sleep_time',\n",
        "    'Asthma': 'asthma',\n",
        "    'KidneyDisease': 'kidney_disease',\n",
        "    'SkinCancer': 'skin_cancer'\n",
        "}, inplace=True)\n",
        "\n",
        "# Change the data to numbers\n",
        "age_map = {\n",
        "    '18-24': 0,\n",
        "    '25-29': 1,\n",
        "    '30-34': 2,\n",
        "    '35-39': 3,\n",
        "    '40-44': 4,\n",
        "    '45-49': 5,\n",
        "    '50-54': 6,\n",
        "    '55-59': 7,\n",
        "    '60-64': 8,\n",
        "    '65-69': 9,\n",
        "    '70-74': 10,\n",
        "    '75-79': 11,\n",
        "    '80 or older':  12,\n",
        "}\n",
        "\n",
        "gen_health_map = {\n",
        "    'Poor': 0,\n",
        "    'Fair': 1,\n",
        "    'Good': 2,\n",
        "    'Very good': 3,\n",
        "    'Excellent': 4\n",
        "}\n",
        "\n",
        "dataset['age_category'].replace(age_map, inplace=True)\n",
        "dataset['gen_health'].replace(gen_health_map, inplace=True)\n",
        "dataset['heart_disease'].replace({'Yes': 1, 'No': 0}, inplace=True)\n",
        "\n",
        "# Split the data to be x and y\n",
        "x = dataset.drop(['heart_disease'], axis=1)\n",
        "y = dataset['heart_disease']\n",
        "\n",
        "x = pd.get_dummies(x, dtype=int)\n",
        "\n",
        "# Use scikit-learn to split data for training and testing\n",
        "x_train, x_test, y_train, y_test = train_test_split(x, y, test_size=0.2, random_state=42)"
      ]
    },
    {
      "cell_type": "code",
      "execution_count": null,
      "id": "d07a6837-723d-40fc-8bf0-99838bf8e773",
      "metadata": {
        "id": "d07a6837-723d-40fc-8bf0-99838bf8e773",
        "outputId": "e205e13c-cc92-4669-f846-b5c21f1cf8a4"
      },
      "outputs": [
        {
          "name": "stdout",
          "output_type": "stream",
          "text": [
            "\n",
            "x data:\n",
            "\n",
            "           bmi  physical_health  mental_health  age_category  gen_health  \\\n",
            "0       16.60              3.0           30.0             7           3   \n",
            "1       20.34              0.0            0.0            12           3   \n",
            "2       26.58             20.0           30.0             9           1   \n",
            "3       24.21              0.0            0.0            11           2   \n",
            "4       23.71             28.0            0.0             4           3   \n",
            "...       ...              ...            ...           ...         ...   \n",
            "319790  27.41              7.0            0.0             8           1   \n",
            "319791  29.84              0.0            0.0             3           3   \n",
            "319792  24.24              0.0            0.0             5           2   \n",
            "319793  32.81              0.0            0.0             1           2   \n",
            "319794  46.56              0.0            0.0            12           2   \n",
            "\n",
            "        sleep_time  smoking_No  smoking_Yes  alcohol_drinking_No  \\\n",
            "0              5.0           0            1                    1   \n",
            "1              7.0           1            0                    1   \n",
            "2              8.0           0            1                    1   \n",
            "3              6.0           1            0                    1   \n",
            "4              8.0           1            0                    1   \n",
            "...            ...         ...          ...                  ...   \n",
            "319790         6.0           0            1                    1   \n",
            "319791         5.0           0            1                    1   \n",
            "319792         6.0           1            0                    1   \n",
            "319793        12.0           1            0                    1   \n",
            "319794         8.0           1            0                    1   \n",
            "\n",
            "        alcohol_drinking_Yes  ...  diabetic_Yes  \\\n",
            "0                          0  ...             1   \n",
            "1                          0  ...             0   \n",
            "2                          0  ...             1   \n",
            "3                          0  ...             0   \n",
            "4                          0  ...             0   \n",
            "...                      ...  ...           ...   \n",
            "319790                     0  ...             1   \n",
            "319791                     0  ...             0   \n",
            "319792                     0  ...             0   \n",
            "319793                     0  ...             0   \n",
            "319794                     0  ...             0   \n",
            "\n",
            "        diabetic_Yes (during pregnancy)  physical_activity_No  \\\n",
            "0                                     0                     0   \n",
            "1                                     0                     0   \n",
            "2                                     0                     0   \n",
            "3                                     0                     1   \n",
            "4                                     0                     0   \n",
            "...                                 ...                   ...   \n",
            "319790                                0                     1   \n",
            "319791                                0                     0   \n",
            "319792                                0                     0   \n",
            "319793                                0                     1   \n",
            "319794                                0                     0   \n",
            "\n",
            "        physical_activity_Yes  asthma_No  asthma_Yes  kidney_disease_No  \\\n",
            "0                           1          0           1                  1   \n",
            "1                           1          1           0                  1   \n",
            "2                           1          0           1                  1   \n",
            "3                           0          1           0                  1   \n",
            "4                           1          1           0                  1   \n",
            "...                       ...        ...         ...                ...   \n",
            "319790                      0          0           1                  1   \n",
            "319791                      1          0           1                  1   \n",
            "319792                      1          1           0                  1   \n",
            "319793                      0          1           0                  1   \n",
            "319794                      1          1           0                  1   \n",
            "\n",
            "        kidney_disease_Yes  skin_cancer_No  skin_cancer_Yes  \n",
            "0                        0               0                1  \n",
            "1                        0               1                0  \n",
            "2                        0               1                0  \n",
            "3                        0               0                1  \n",
            "4                        0               1                0  \n",
            "...                    ...             ...              ...  \n",
            "319790                   0               1                0  \n",
            "319791                   0               1                0  \n",
            "319792                   0               1                0  \n",
            "319793                   0               1                0  \n",
            "319794                   0               1                0  \n",
            "\n",
            "[319795 rows x 34 columns]\n",
            "\n",
            "y data:\n",
            "\n",
            " 0         0\n",
            "1         0\n",
            "2         0\n",
            "3         0\n",
            "4         0\n",
            "         ..\n",
            "319790    1\n",
            "319791    0\n",
            "319792    0\n",
            "319793    0\n",
            "319794    0\n",
            "Name: heart_disease, Length: 319795, dtype: int64\n"
          ]
        }
      ],
      "source": [
        "# See dataset modifications\n",
        "\n",
        "print('\\nx data:\\n\\n', x)\n",
        "print('\\ny data:\\n\\n', y)"
      ]
    },
    {
      "cell_type": "markdown",
      "id": "efcc76c1-3d68-4844-aa59-af9cffc14308",
      "metadata": {
        "id": "efcc76c1-3d68-4844-aa59-af9cffc14308"
      },
      "source": [
        "### Train the model"
      ]
    },
    {
      "cell_type": "code",
      "execution_count": null,
      "id": "ffeecfad-68d6-4717-b1df-1c4046d484d2",
      "metadata": {
        "id": "ffeecfad-68d6-4717-b1df-1c4046d484d2",
        "outputId": "3c4be115-1fd2-4f10-e3bb-70548cdb7288"
      },
      "outputs": [
        {
          "name": "stderr",
          "output_type": "stream",
          "text": [
            "/mnt/drive_d/projs/Heart Disease Predictor/venv/lib/python3.12/site-packages/keras/src/layers/core/dense.py:93: UserWarning: Do not pass an `input_shape`/`input_dim` argument to a layer. When using Sequential models, prefer using an `Input(shape)` object as the first layer in the model instead.\n",
            "  super().__init__(activity_regularizer=activity_regularizer, **kwargs)\n",
            "I0000 00:00:1749406291.518281   45218 gpu_device.cc:2019] Created device /job:localhost/replica:0/task:0/device:GPU:0 with 1220 MB memory:  -> device: 0, name: NVIDIA GeForce RTX 3050 Laptop GPU, pci bus id: 0000:01:00.0, compute capability: 8.6\n"
          ]
        },
        {
          "name": "stdout",
          "output_type": "stream",
          "text": [
            "Epoch 1/8\n"
          ]
        },
        {
          "name": "stderr",
          "output_type": "stream",
          "text": [
            "WARNING: All log messages before absl::InitializeLog() is called are written to STDERR\n",
            "I0000 00:00:1749406292.595018   45975 service.cc:152] XLA service 0x7d1ad80057c0 initialized for platform CUDA (this does not guarantee that XLA will be used). Devices:\n",
            "I0000 00:00:1749406292.595044   45975 service.cc:160]   StreamExecutor device (0): NVIDIA GeForce RTX 3050 Laptop GPU, Compute Capability 8.6\n",
            "2025-06-09 02:11:32.610773: I tensorflow/compiler/mlir/tensorflow/utils/dump_mlir_util.cc:269] disabling MLIR crash reproducer, set env var `MLIR_CRASH_REPRODUCER_DIRECTORY` to enable.\n",
            "I0000 00:00:1749406292.729536   45975 cuda_dnn.cc:529] Loaded cuDNN version 90300\n"
          ]
        },
        {
          "name": "stdout",
          "output_type": "stream",
          "text": [
            "\u001b[1m 159/9994\u001b[0m \u001b[37m━━━━━━━━━━━━━━━━━━━━\u001b[0m \u001b[1m9s\u001b[0m 958us/step - accuracy: 0.8506 - loss: 0.4320"
          ]
        },
        {
          "name": "stderr",
          "output_type": "stream",
          "text": [
            "I0000 00:00:1749406293.757545   45975 device_compiler.h:188] Compiled cluster using XLA!  This line is logged at most once for the lifetime of the process.\n"
          ]
        },
        {
          "name": "stdout",
          "output_type": "stream",
          "text": [
            "\u001b[1m9994/9994\u001b[0m \u001b[32m━━━━━━━━━━━━━━━━━━━━\u001b[0m\u001b[37m\u001b[0m \u001b[1m14s\u001b[0m 1ms/step - accuracy: 0.9120 - loss: 0.2432 - val_accuracy: 0.9136 - val_loss: 0.2320\n",
            "Epoch 2/8\n",
            "\u001b[1m9994/9994\u001b[0m \u001b[32m━━━━━━━━━━━━━━━━━━━━\u001b[0m\u001b[37m\u001b[0m \u001b[1m10s\u001b[0m 977us/step - accuracy: 0.9156 - loss: 0.2280 - val_accuracy: 0.9139 - val_loss: 0.2317\n",
            "Epoch 3/8\n",
            "\u001b[1m9994/9994\u001b[0m \u001b[32m━━━━━━━━━━━━━━━━━━━━\u001b[0m\u001b[37m\u001b[0m \u001b[1m10s\u001b[0m 1ms/step - accuracy: 0.9160 - loss: 0.2269 - val_accuracy: 0.9141 - val_loss: 0.2304\n",
            "Epoch 4/8\n",
            "\u001b[1m9994/9994\u001b[0m \u001b[32m━━━━━━━━━━━━━━━━━━━━\u001b[0m\u001b[37m\u001b[0m \u001b[1m10s\u001b[0m 1ms/step - accuracy: 0.9157 - loss: 0.2274 - val_accuracy: 0.9141 - val_loss: 0.2339\n",
            "Epoch 5/8\n",
            "\u001b[1m9994/9994\u001b[0m \u001b[32m━━━━━━━━━━━━━━━━━━━━\u001b[0m\u001b[37m\u001b[0m \u001b[1m10s\u001b[0m 1ms/step - accuracy: 0.9162 - loss: 0.2251 - val_accuracy: 0.9142 - val_loss: 0.2302\n",
            "Epoch 6/8\n",
            "\u001b[1m9994/9994\u001b[0m \u001b[32m━━━━━━━━━━━━━━━━━━━━\u001b[0m\u001b[37m\u001b[0m \u001b[1m10s\u001b[0m 1ms/step - accuracy: 0.9161 - loss: 0.2264 - val_accuracy: 0.9139 - val_loss: 0.2295\n",
            "Epoch 7/8\n",
            "\u001b[1m9994/9994\u001b[0m \u001b[32m━━━━━━━━━━━━━━━━━━━━\u001b[0m\u001b[37m\u001b[0m \u001b[1m10s\u001b[0m 1ms/step - accuracy: 0.9162 - loss: 0.2254 - val_accuracy: 0.9140 - val_loss: 0.2295\n",
            "Epoch 8/8\n",
            "\u001b[1m9994/9994\u001b[0m \u001b[32m━━━━━━━━━━━━━━━━━━━━\u001b[0m\u001b[37m\u001b[0m \u001b[1m10s\u001b[0m 975us/step - accuracy: 0.9154 - loss: 0.2269 - val_accuracy: 0.9135 - val_loss: 0.2294\n"
          ]
        },
        {
          "data": {
            "text/plain": [
              "<keras.src.callbacks.history.History at 0x7d1bd5946450>"
            ]
          },
          "execution_count": 6,
          "metadata": {},
          "output_type": "execute_result"
        }
      ],
      "source": [
        "# declare the model\n",
        "model = tf.keras.Sequential([\n",
        "    tf.keras.layers.Dense(64, activation='relu', input_shape=(34, )),    # Hidden Layer\n",
        "    tf.keras.layers.Dense(32, activation='relu'),                       # Hidden Layer\n",
        "    tf.keras.layers.Dense(1, activation='sigmoid')                      # Output for Binary Classification\n",
        "])\n",
        "\n",
        "# Configure the model\n",
        "model.compile(optimizer='adam', loss='binary_crossentropy', metrics=['accuracy'])\n",
        "\n",
        "# Train model\n",
        "early_stop = tf.keras.callbacks.EarlyStopping(monitor='val_loss', patience=3)\n",
        "\n",
        "model.fit(x, y, epochs=8, validation_data=(x_test, y_test), callbacks=[early_stop])"
      ]
    },
    {
      "cell_type": "markdown",
      "id": "575d0e17-ee97-4b28-924f-7402b88f8edf",
      "metadata": {
        "id": "575d0e17-ee97-4b28-924f-7402b88f8edf"
      },
      "source": [
        "### Evaluate the Model"
      ]
    },
    {
      "cell_type": "code",
      "execution_count": null,
      "id": "f38fbb9e-02e7-443a-a1e6-9027c7bc547b",
      "metadata": {
        "scrolled": true,
        "id": "f38fbb9e-02e7-443a-a1e6-9027c7bc547b",
        "outputId": "76b953f5-87cf-46d5-dfd4-84f321934f88"
      },
      "outputs": [
        {
          "name": "stdout",
          "output_type": "stream",
          "text": [
            "\u001b[1m1999/1999\u001b[0m \u001b[32m━━━━━━━━━━━━━━━━━━━━\u001b[0m\u001b[37m\u001b[0m \u001b[1m2s\u001b[0m 825us/step - accuracy: 0.9112 - loss: 0.2351\n",
            "The accuracy of the model is : 0.9135071039199829\n"
          ]
        }
      ],
      "source": [
        "# Evaluate the model\n",
        "loss, accuracy =  model.evaluate(x_test, y_test)\n",
        "print('The accuracy of the model is :', accuracy)"
      ]
    },
    {
      "cell_type": "markdown",
      "id": "9025b13b-101a-468e-bfcc-a47a90f53b63",
      "metadata": {
        "id": "9025b13b-101a-468e-bfcc-a47a90f53b63"
      },
      "source": [
        "### Export the model"
      ]
    },
    {
      "cell_type": "code",
      "execution_count": null,
      "id": "165d3015-1e6d-4e52-b40d-a7c65d016884",
      "metadata": {
        "id": "165d3015-1e6d-4e52-b40d-a7c65d016884"
      },
      "outputs": [],
      "source": [
        "# Save the model\n",
        "model.save('heartrisk_detector_model.keras')"
      ]
    },
    {
      "cell_type": "markdown",
      "id": "f117bca0-db24-460f-bdd5-a59c2ab3b93a",
      "metadata": {
        "id": "f117bca0-db24-460f-bdd5-a59c2ab3b93a"
      },
      "source": [
        "### Try the Model"
      ]
    },
    {
      "cell_type": "code",
      "execution_count": null,
      "id": "c893e75f-3e08-42d1-bf8e-28d9021c9f48",
      "metadata": {
        "id": "c893e75f-3e08-42d1-bf8e-28d9021c9f48",
        "outputId": "b20df332-c96f-42ee-ef07-68c10b7fd835"
      },
      "outputs": [
        {
          "name": "stdout",
          "output_type": "stream",
          "text": [
            "\u001b[1m1/1\u001b[0m \u001b[32m━━━━━━━━━━━━━━━━━━━━\u001b[0m\u001b[37m\u001b[0m \u001b[1m0s\u001b[0m 33ms/step\n",
            "\n",
            "Person 1: Very Low Risk of Heart Disease | Predicted Probability: 0.01\n",
            "\n",
            "Person 2: Very Low Risk of Heart Disease | Predicted Probability: 0.01\n",
            "\n",
            "Person 3: High Risk of Heart Disease | Predicted Probability: 0.64\n",
            "\n",
            "Person 4: Very Low Risk of Heart Disease | Predicted Probability: 0.10\n",
            "\n",
            "Person 5: Moderate Risk of Heart Disease | Predicted Probability: 0.44\n",
            "\n",
            "Person 6: Very Low Risk of Heart Disease | Predicted Probability: 0.01\n",
            "\n",
            "Person 7: Moderate Risk of Heart Disease | Predicted Probability: 0.50\n",
            "\n",
            "Person 8: Very Low Risk of Heart Disease | Predicted Probability: 0.02\n",
            "\n",
            "Person 9: Very Low Risk of Heart Disease | Predicted Probability: 0.03\n",
            "\n",
            "Person 10: High Risk of Heart Disease | Predicted Probability: 0.69\n"
          ]
        }
      ],
      "source": [
        "# Define people to diagnose\n",
        "data = [\n",
        "    # Underweight young adult female with high mental distress, doesn’t smoke or drink, average sleep. Generally fair health.\n",
        "    [17.8, 2.0, 25.0, 4, 3, 6.0, 1, 0, 1, 0, 1, 0, 1, 0, 1, 0, 0, 0, 0, 0, 0, 1, 1, 0, 0, 0, 0, 1, 1, 0, 1, 0, 1, 0],\n",
        "    # Healthy Asian male with no reported health issues, sleeps well, no smoking/drinking, excellent general health.\n",
        "    [22.5, 0.0, 0.0, 8, 4, 9.0, 1, 0, 1, 0, 1, 0, 1, 0, 0, 1, 0, 1, 0, 0, 0, 0, 1, 0, 0, 0, 1, 0, 1, 0, 1, 0, 1, 0],\n",
        "    # Obese Black male smoker with stroke history and mobility issues, poor general health and low sleep.\n",
        "    [35.6, 12.0, 10.0, 9, 1, 4.0, 0, 1, 1, 0, 0, 1, 0, 1, 0, 1, 0, 0, 1, 0, 0, 0, 0, 0, 1, 0, 1, 0, 0, 1, 0, 1, 1, 0],\n",
        "    # Normal BMI Hispanic female, no health issues, doesn’t smoke or drink, high general health.\n",
        "    [26.2, 0.0, 0.0, 12, 2, 7.0, 1, 0, 1, 0, 1, 0, 1, 0, 1, 0, 0, 0, 0, 1, 0, 0, 1, 0, 0, 0, 0, 1, 1, 0, 1, 0, 1, 0],\n",
        "    # Obese male drinker, severe physical/mental distress, poor general health, limited mobility.\n",
        "    [30.1, 30.0, 20.0, 11, 0, 5.0, 0, 1, 0, 1, 1, 0, 0, 1, 0, 1, 0, 0, 0, 0, 0, 1, 0, 1, 0, 0, 1, 0, 1, 0, 0, 1, 1, 0],\n",
        "    # Underweight Hispanic female, light physical/mental health issues, sleeps well, nonsmoker.\n",
        "    [19.4, 1.0, 2.0, 5, 3, 10.0, 1, 0, 1, 0, 1, 0, 1, 0, 1, 0, 0, 0, 0, 1, 0, 0, 1, 0, 0, 0, 0, 1, 1, 0, 1, 0, 1, 0],\n",
        "    # Severely obese Black male smoker, poor physical and mental health, limited mobility, poor general health.\n",
        "    [41.2, 6.0, 15.0, 10, 1, 6.0, 0, 1, 1, 0, 1, 0, 0, 1, 0, 1, 0, 0, 1, 0, 0, 0, 0, 0, 1, 0, 1, 0, 0, 1, 0, 1, 1, 0],\n",
        "    # Overweight female from Other race group, no issues, good sleep and health, nonsmoker.\n",
        "    [28.0, 0.0, 0.0, 6, 2, 8.0, 1, 0, 1, 0, 1, 0, 1, 0, 1, 0, 0, 0, 0, 0, 1, 0, 1, 0, 0, 0, 0, 1, 1, 0, 1, 0, 1, 0],\n",
        "    # Normal weight Native American female, mild physical issues, fair general health, sleeps okay.\n",
        "    [24.3, 3.0, 0.0, 7, 3, 7.0, 1, 0, 1, 0, 1, 0, 1, 0, 1, 0, 1, 0, 0, 0, 0, 0, 1, 0, 0, 0, 1, 0, 0, 1, 1, 0, 1, 0],\n",
        "    # Obese Hispanic male drinker, major health issues and stroke, limited mobility, poor health.\n",
        "    [38.7, 20.0, 30.0, 9, 0, 4.0, 0, 1, 0, 1, 0, 1, 0, 1, 0, 1, 0, 0, 0, 1, 0, 0, 0, 0, 1, 0, 1, 0, 0, 1, 0, 1, 0, 1],\n",
        "]\n",
        "\n",
        "# Define the column names\n",
        "columns = [\n",
        "    \"bmi\", \"physical_health\", \"mental_health\", \"age_category\", \"gen_health\", \"sleep_time\",\n",
        "    \"smoking_No\", \"smoking_Yes\", \"alcohol_drinking_No\", \"alcohol_drinking_Yes\",\n",
        "    \"stroke_No\", \"stroke_Yes\", \"diff_walking_No\", \"diff_walking_Yes\",\n",
        "    \"sex_Female\", \"sex_Male\",\n",
        "    \"race_American Indian/Alaskan Native\", \"race_Asian\", \"race_Black\", \"race_Hispanic\",\n",
        "    \"race_Other\", \"race_White\", \"diabetic_No\", \"diabetic_No, borderline diabetes\", \"diabetic_Yes\",\n",
        "    \"diabetic_Yes (during pregnancy)\", \"physical_activity_No\", \"physical_activity_Yes\",\n",
        "    \"asthma_No\", \"asthma_Yes\", \"kidney_disease_No\", \"kidney_disease_Yes\",\n",
        "    \"skin_cancer_No\", \"skin_cancer_Yes\"\n",
        "]\n",
        "\n",
        "# Create the DataFrame\n",
        "predictX = pd.DataFrame(data, columns=columns)\n",
        "\n",
        "# Predict\n",
        "prediction = model.predict(predictX)\n",
        "\n",
        "for index, result in enumerate(prediction):\n",
        "    prob = result[0]\n",
        "\n",
        "    if prob > 0.8:\n",
        "        risk = \"Very High Risk\"\n",
        "    elif prob > 0.6:\n",
        "        risk = \"High Risk\"\n",
        "    elif prob > 0.4:\n",
        "        risk = \"Moderate Risk\"\n",
        "    elif prob > 0.2:\n",
        "        risk = \"Low Risk\"\n",
        "    else:\n",
        "        risk = \"Very Low Risk\"\n",
        "\n",
        "    print(f\"\\nPerson {index + 1}: {risk} of Heart Disease | Predicted Probability: {prob:.2f}\")"
      ]
    }
  ],
  "metadata": {
    "kernelspec": {
      "display_name": "Python 3 (ipykernel)",
      "language": "python",
      "name": "python3"
    },
    "language_info": {
      "codemirror_mode": {
        "name": "ipython",
        "version": 3
      },
      "file_extension": ".py",
      "mimetype": "text/x-python",
      "name": "python",
      "nbconvert_exporter": "python",
      "pygments_lexer": "ipython3",
      "version": "3.12.3"
    },
    "colab": {
      "provenance": [],
      "include_colab_link": true
    }
  },
  "nbformat": 4,
  "nbformat_minor": 5
}